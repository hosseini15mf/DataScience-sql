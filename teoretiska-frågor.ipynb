{
 "cells": [
  {
   "cell_type": "markdown",
   "metadata": {},
   "source": [
    "# Beskriv kort hur en relationsdatabas fungerar.\n",
    "\n",
    "I relationsdatabaser har vi tabeller som har kolumner. Data sparas i rader.\n",
    "varje tabel har en kolumn (eller kombination av kolumner) som innehåller primärnyckel.\n",
    "Tabeller kan kopplas samman med hjälp av främmande nycklar. En främmande nyckel i en tabel \n",
    "perkar på en primärnyckel i en annan tabel och skpar en relation mellan dem.\n",
    "Man kan läsa, lägga till, uppdatera och ta bort data från databasen med SQL query.\n",
    "\n",
    "# Vad menas med “CRUD”-flödet?\n",
    "\n",
    "Det är akronym för Create, Read, Update och Delete. De är fyra grundläggande operationerna för att\n",
    "hantera data e en databas.\n",
    "Create: man lägger till data till databasen.\n",
    "Read: man läser data från databasen.\n",
    "Update: man uppdaterar data i databasen.\n",
    "Delete: man tar bort data från databasen.\n",
    "\n",
    "# Beskriv kort vad en “left join” och en “inner join” är. Varför använder man det?\n",
    "\n",
    "left join: Det hämtar alla rader från vänstra tabellen och matchande rader från högra tabellen.\n",
    "om ingen matchning finns, ges de med null.\n",
    "inner join: Det hämtar endast de rader där det finns en matchning mellan båda tabellerna.\n",
    "\n",
    "Man använder det för att kombinera data från flera tabeller baserat på gemensamma fält.\n",
    "\n",
    "# Beskriv kort vad indexering i SQL innebär.\n",
    "\n",
    "Indexering i sql innebär att skapa en struktur för att göra snabbare sökning, sortering och filtrering \n",
    "data i en tabel. Index fungerar som ett register och används för att börbättra prestandan vid frågor.\n",
    "\n",
    "# Beskriv kort vad en vy i SQL är.\n",
    "\n",
    "En vy är en tillfällig eller virtuell tabel som man får via en query. \n",
    "Den finns inte i databasen men man får det via query till en eller flera tabeller.\n",
    "man använder det för att kunna skapa komplexa frågor.\n",
    "\n",
    "# Beskriv kort vad en lagrad procedur i SQL är.\n",
    "\n",
    "Det kan vara en definierad samling av sql-kommandon som sparas i databasen och kan köras senare när det behövs.\n",
    "Det används för att automatisera uppgifter och minka uppreppningar.\n",
    "\n"
   ]
  }
 ],
 "metadata": {
  "language_info": {
   "name": "python"
  }
 },
 "nbformat": 4,
 "nbformat_minor": 2
}
